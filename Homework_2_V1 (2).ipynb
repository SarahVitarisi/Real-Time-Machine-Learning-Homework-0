{
 "cells": [
  {
   "cell_type": "code",
   "execution_count": 1,
   "id": "3595753a-dbfd-4244-ba7c-deef0702da53",
   "metadata": {
    "tags": []
   },
   "outputs": [
    {
     "name": "stderr",
     "output_type": "stream",
     "text": [
      "C:\\Users\\tycha\\anaconda3\\lib\\site-packages\\torchvision\\io\\image.py:11: UserWarning: Failed to load image Python extension: Could not find module 'C:\\Users\\tycha\\anaconda3\\Lib\\site-packages\\torchvision\\image.pyd' (or one of its dependencies). Try using the full path with constructor syntax.\n",
      "  warn(f\"Failed to load image Python extension: {e}\")\n"
     ]
    }
   ],
   "source": [
    "import imageio \n",
    "import torch\n",
    "from PIL import Image\n",
    "from torchvision import transforms\n",
    "import numpy as np \n",
    "import matplotlib.pyplot as plt \n",
    "from ptflops import get_model_complexity_info\n"
   ]
  },
  {
   "cell_type": "code",
   "execution_count": 2,
   "id": "094877cd-7cb2-4b6a-bb5a-da05de3cf80a",
   "metadata": {
    "tags": []
   },
   "outputs": [
    {
     "data": {
      "text/html": [
       "<div>\n",
       "<style scoped>\n",
       "    .dataframe tbody tr th:only-of-type {\n",
       "        vertical-align: middle;\n",
       "    }\n",
       "\n",
       "    .dataframe tbody tr th {\n",
       "        vertical-align: top;\n",
       "    }\n",
       "\n",
       "    .dataframe thead th {\n",
       "        text-align: right;\n",
       "    }\n",
       "</style>\n",
       "<table border=\"1\" class=\"dataframe\">\n",
       "  <thead>\n",
       "    <tr style=\"text-align: right;\">\n",
       "      <th></th>\n",
       "      <th>price</th>\n",
       "      <th>area</th>\n",
       "      <th>bedrooms</th>\n",
       "      <th>bathrooms</th>\n",
       "      <th>stories</th>\n",
       "      <th>mainroad</th>\n",
       "      <th>guestroom</th>\n",
       "      <th>basement</th>\n",
       "      <th>hotwaterheating</th>\n",
       "      <th>airconditioning</th>\n",
       "      <th>parking</th>\n",
       "      <th>prefarea</th>\n",
       "      <th>furnishingstatus</th>\n",
       "    </tr>\n",
       "  </thead>\n",
       "  <tbody>\n",
       "    <tr>\n",
       "      <th>0</th>\n",
       "      <td>13300000</td>\n",
       "      <td>7420</td>\n",
       "      <td>4</td>\n",
       "      <td>2</td>\n",
       "      <td>3</td>\n",
       "      <td>yes</td>\n",
       "      <td>no</td>\n",
       "      <td>no</td>\n",
       "      <td>no</td>\n",
       "      <td>yes</td>\n",
       "      <td>2</td>\n",
       "      <td>yes</td>\n",
       "      <td>furnished</td>\n",
       "    </tr>\n",
       "    <tr>\n",
       "      <th>1</th>\n",
       "      <td>12250000</td>\n",
       "      <td>8960</td>\n",
       "      <td>4</td>\n",
       "      <td>4</td>\n",
       "      <td>4</td>\n",
       "      <td>yes</td>\n",
       "      <td>no</td>\n",
       "      <td>no</td>\n",
       "      <td>no</td>\n",
       "      <td>yes</td>\n",
       "      <td>3</td>\n",
       "      <td>no</td>\n",
       "      <td>furnished</td>\n",
       "    </tr>\n",
       "    <tr>\n",
       "      <th>2</th>\n",
       "      <td>12250000</td>\n",
       "      <td>9960</td>\n",
       "      <td>3</td>\n",
       "      <td>2</td>\n",
       "      <td>2</td>\n",
       "      <td>yes</td>\n",
       "      <td>no</td>\n",
       "      <td>yes</td>\n",
       "      <td>no</td>\n",
       "      <td>no</td>\n",
       "      <td>2</td>\n",
       "      <td>yes</td>\n",
       "      <td>semi-furnished</td>\n",
       "    </tr>\n",
       "    <tr>\n",
       "      <th>3</th>\n",
       "      <td>12215000</td>\n",
       "      <td>7500</td>\n",
       "      <td>4</td>\n",
       "      <td>2</td>\n",
       "      <td>2</td>\n",
       "      <td>yes</td>\n",
       "      <td>no</td>\n",
       "      <td>yes</td>\n",
       "      <td>no</td>\n",
       "      <td>yes</td>\n",
       "      <td>3</td>\n",
       "      <td>yes</td>\n",
       "      <td>furnished</td>\n",
       "    </tr>\n",
       "    <tr>\n",
       "      <th>4</th>\n",
       "      <td>11410000</td>\n",
       "      <td>7420</td>\n",
       "      <td>4</td>\n",
       "      <td>1</td>\n",
       "      <td>2</td>\n",
       "      <td>yes</td>\n",
       "      <td>yes</td>\n",
       "      <td>yes</td>\n",
       "      <td>no</td>\n",
       "      <td>yes</td>\n",
       "      <td>2</td>\n",
       "      <td>no</td>\n",
       "      <td>furnished</td>\n",
       "    </tr>\n",
       "  </tbody>\n",
       "</table>\n",
       "</div>"
      ],
      "text/plain": [
       "      price  area  bedrooms  bathrooms  stories mainroad guestroom basement  \\\n",
       "0  13300000  7420         4          2        3      yes        no       no   \n",
       "1  12250000  8960         4          4        4      yes        no       no   \n",
       "2  12250000  9960         3          2        2      yes        no      yes   \n",
       "3  12215000  7500         4          2        2      yes        no      yes   \n",
       "4  11410000  7420         4          1        2      yes       yes      yes   \n",
       "\n",
       "  hotwaterheating airconditioning  parking prefarea furnishingstatus  \n",
       "0              no             yes        2      yes        furnished  \n",
       "1              no             yes        3       no        furnished  \n",
       "2              no              no        2      yes   semi-furnished  \n",
       "3              no             yes        3      yes        furnished  \n",
       "4              no             yes        2       no        furnished  "
      ]
     },
     "execution_count": 2,
     "metadata": {},
     "output_type": "execute_result"
    }
   ],
   "source": [
    "import pandas as pd\n",
    "housing = pd.DataFrame(pd.read_csv(\"Housing.csv\"))\n",
    "housing.head()"
   ]
  },
  {
   "cell_type": "code",
   "execution_count": 3,
   "id": "e1bdd258-2428-47d0-a37b-db606eddd116",
   "metadata": {
    "tags": []
   },
   "outputs": [
    {
     "data": {
      "text/html": [
       "<div>\n",
       "<style scoped>\n",
       "    .dataframe tbody tr th:only-of-type {\n",
       "        vertical-align: middle;\n",
       "    }\n",
       "\n",
       "    .dataframe tbody tr th {\n",
       "        vertical-align: top;\n",
       "    }\n",
       "\n",
       "    .dataframe thead th {\n",
       "        text-align: right;\n",
       "    }\n",
       "</style>\n",
       "<table border=\"1\" class=\"dataframe\">\n",
       "  <thead>\n",
       "    <tr style=\"text-align: right;\">\n",
       "      <th></th>\n",
       "      <th>area</th>\n",
       "      <th>bedrooms</th>\n",
       "      <th>bathrooms</th>\n",
       "      <th>stories</th>\n",
       "      <th>parking</th>\n",
       "      <th>price</th>\n",
       "    </tr>\n",
       "  </thead>\n",
       "  <tbody>\n",
       "    <tr>\n",
       "      <th>0</th>\n",
       "      <td>7420</td>\n",
       "      <td>4</td>\n",
       "      <td>2</td>\n",
       "      <td>3</td>\n",
       "      <td>2</td>\n",
       "      <td>13300000</td>\n",
       "    </tr>\n",
       "    <tr>\n",
       "      <th>1</th>\n",
       "      <td>8960</td>\n",
       "      <td>4</td>\n",
       "      <td>4</td>\n",
       "      <td>4</td>\n",
       "      <td>3</td>\n",
       "      <td>12250000</td>\n",
       "    </tr>\n",
       "    <tr>\n",
       "      <th>2</th>\n",
       "      <td>9960</td>\n",
       "      <td>3</td>\n",
       "      <td>2</td>\n",
       "      <td>2</td>\n",
       "      <td>2</td>\n",
       "      <td>12250000</td>\n",
       "    </tr>\n",
       "    <tr>\n",
       "      <th>3</th>\n",
       "      <td>7500</td>\n",
       "      <td>4</td>\n",
       "      <td>2</td>\n",
       "      <td>2</td>\n",
       "      <td>3</td>\n",
       "      <td>12215000</td>\n",
       "    </tr>\n",
       "    <tr>\n",
       "      <th>4</th>\n",
       "      <td>7420</td>\n",
       "      <td>4</td>\n",
       "      <td>1</td>\n",
       "      <td>2</td>\n",
       "      <td>2</td>\n",
       "      <td>11410000</td>\n",
       "    </tr>\n",
       "  </tbody>\n",
       "</table>\n",
       "</div>"
      ],
      "text/plain": [
       "   area  bedrooms  bathrooms  stories  parking     price\n",
       "0  7420         4          2        3        2  13300000\n",
       "1  8960         4          4        4        3  12250000\n",
       "2  9960         3          2        2        2  12250000\n",
       "3  7500         4          2        2        3  12215000\n",
       "4  7420         4          1        2        2  11410000"
      ]
     },
     "execution_count": 3,
     "metadata": {},
     "output_type": "execute_result"
    }
   ],
   "source": [
    "num_vars = ['area', 'bedrooms', 'bathrooms', 'stories', 'parking', 'price'] \n",
    "nNetwork = housing[num_vars] \n",
    "nNetwork.head() \n"
   ]
  },
  {
   "cell_type": "code",
   "execution_count": 4,
   "id": "db452c5c-3ddd-4343-b439-7648ea1df833",
   "metadata": {
    "tags": []
   },
   "outputs": [],
   "source": [
    "#Price Predicition\n",
    "area = torch.tensor(nNetwork['area']) \n",
    "bedrooms = torch.tensor(nNetwork['bedrooms'])\n",
    "bathrooms = torch.tensor(nNetwork['bathrooms'])\n",
    "stories = torch.tensor(nNetwork['stories'])\n",
    "parking = torch.tensor(nNetwork['parking'])\n",
    "price = torch.tensor(nNetwork['price'])\n",
    "\n",
    "#Normalized #Split Post Normalized Values\n",
    "normArea = area / max(nNetwork['area'])\n",
    "normBedrooms = bedrooms / max(nNetwork['bedrooms'])\n",
    "normBathrooms = bathrooms / max(nNetwork['bathrooms'])\n",
    "normStories = stories / max(nNetwork['stories'])\n",
    "normParking = parking / max(nNetwork['parking'])\n",
    "normPrice = price / max(nNetwork['price'])\n",
    "\n",
    "#Split ^\n",
    "#Mask Creation 80/20 Split\n",
    "mask = np.random.rand(len(normArea)) <= 0.8\n",
    "\n",
    "#AreaSets\n",
    "tArea = normArea[mask]\n",
    "vArea = normArea[~mask]\n",
    "\n",
    "#BedroomSets\n",
    "tBedrooms = normBedrooms[mask]\n",
    "vBedrooms = normBedrooms[~mask]\n",
    "\n",
    "#BathroomSets\n",
    "tBathrooms = normBathrooms[mask]\n",
    "vBathrooms = normBathrooms[~mask]\n",
    "\n",
    "#StoriesSets\n",
    "tStories = normStories[mask]\n",
    "vStories = normStories[~mask]\n",
    "\n",
    "#ParkingSets\n",
    "tParking = normParking[mask]\n",
    "vParking = normParking[~mask]\n",
    "\n",
    "#PriceSets\n",
    "tPrice = normPrice[mask]\n",
    "vPrice = normPrice[~mask]"
   ]
  },
  {
   "cell_type": "code",
   "execution_count": 5,
   "id": "4d7ba49f-6853-47ca-bd55-e0365cfbb2e0",
   "metadata": {
    "tags": []
   },
   "outputs": [],
   "source": [
    "#Bringing the normalized features back together and making it a tensor.\n",
    "tCaterogies = [tArea, tBedrooms, tBathrooms, tStories, tParking]\n",
    "tCaterogies = torch.stack(tCaterogies)\n",
    "tCaterogies = np.transpose(tCaterogies)\n",
    "\n",
    "vCaterogies = [vArea, vBedrooms, vBathrooms, vStories, vParking]\n",
    "vCaterogies = torch.stack(vCaterogies)\n",
    "vCaterogies = np.transpose(vCaterogies)"
   ]
  },
  {
   "cell_type": "code",
   "execution_count": 6,
   "id": "a5e54ae6-b616-458e-9ec7-90de647a2204",
   "metadata": {
    "scrolled": true,
    "tags": []
   },
   "outputs": [
    {
     "data": {
      "text/plain": [
       "tensor([[0.4580, 0.6667, 0.5000, 0.7500, 0.6667],\n",
       "        [0.5531, 0.6667, 1.0000, 1.0000, 1.0000],\n",
       "        [0.4630, 0.6667, 0.5000, 0.5000, 1.0000],\n",
       "        ...,\n",
       "        [0.2235, 0.3333, 0.2500, 0.2500, 0.0000],\n",
       "        [0.1796, 0.5000, 0.2500, 0.2500, 0.0000],\n",
       "        [0.2377, 0.5000, 0.2500, 0.5000, 0.0000]])"
      ]
     },
     "execution_count": 6,
     "metadata": {},
     "output_type": "execute_result"
    }
   ],
   "source": [
    "tCaterogies"
   ]
  },
  {
   "cell_type": "code",
   "execution_count": 7,
   "id": "85ff279d-962e-4e7b-b33c-5b0dc5078c49",
   "metadata": {
    "scrolled": true,
    "tags": []
   },
   "outputs": [
    {
     "data": {
      "text/plain": [
       "tensor([[0.6148, 0.5000, 0.5000, 0.5000, 0.6667],\n",
       "        [0.3704, 0.6667, 0.7500, 0.5000, 0.6667],\n",
       "        [0.4037, 0.6667, 0.5000, 0.5000, 0.6667],\n",
       "        [0.3679, 0.5000, 0.7500, 0.5000, 0.3333],\n",
       "        [0.3704, 0.5000, 0.5000, 0.7500, 0.0000],\n",
       "        [0.3704, 0.6667, 0.5000, 1.0000, 0.3333],\n",
       "        [0.7062, 0.6667, 0.2500, 0.5000, 0.3333],\n",
       "        [0.4741, 0.6667, 0.5000, 1.0000, 0.3333],\n",
       "        [0.6898, 0.5000, 0.2500, 0.2500, 0.3333],\n",
       "        [0.3099, 0.5000, 0.2500, 1.0000, 0.0000],\n",
       "        [0.3704, 0.5000, 0.5000, 1.0000, 0.0000],\n",
       "        [0.4117, 0.5000, 0.2500, 0.7500, 0.0000],\n",
       "        [0.3704, 0.6667, 0.2500, 0.7500, 0.0000],\n",
       "        [0.2778, 0.5000, 0.2500, 1.0000, 0.0000],\n",
       "        [0.4083, 0.6667, 0.5000, 0.5000, 0.3333],\n",
       "        [0.4074, 0.5000, 0.2500, 0.2500, 0.6667],\n",
       "        [0.4037, 0.5000, 0.2500, 0.2500, 0.6667],\n",
       "        [0.3860, 0.6667, 0.5000, 0.2500, 0.3333],\n",
       "        [0.4012, 0.5000, 0.5000, 0.7500, 0.0000],\n",
       "        [0.3395, 0.5000, 0.2500, 0.7500, 0.3333],\n",
       "        [0.7074, 0.5000, 0.2500, 0.7500, 0.6667],\n",
       "        [0.3210, 0.5000, 0.2500, 0.7500, 0.0000],\n",
       "        [0.3704, 0.5000, 0.5000, 1.0000, 0.0000],\n",
       "        [0.3086, 0.5000, 0.2500, 0.7500, 0.0000],\n",
       "        [0.6481, 0.6667, 0.5000, 0.5000, 0.3333],\n",
       "        [0.3926, 0.5000, 0.2500, 0.7500, 0.0000],\n",
       "        [0.3170, 0.5000, 0.2500, 0.5000, 0.0000],\n",
       "        [0.2037, 0.5000, 0.7500, 0.5000, 0.0000],\n",
       "        [0.4213, 0.5000, 0.2500, 0.2500, 0.0000],\n",
       "        [0.3981, 0.5000, 0.5000, 0.2500, 0.0000],\n",
       "        [0.2630, 0.6667, 0.2500, 0.5000, 0.0000],\n",
       "        [0.6339, 0.5000, 0.2500, 0.2500, 0.3333],\n",
       "        [0.3735, 0.5000, 0.2500, 0.2500, 0.0000],\n",
       "        [0.1852, 0.5000, 0.5000, 0.5000, 0.0000],\n",
       "        [0.3765, 0.5000, 0.2500, 0.2500, 0.0000],\n",
       "        [0.2593, 0.5000, 0.2500, 0.5000, 0.3333],\n",
       "        [0.2972, 0.3333, 0.2500, 0.2500, 0.0000],\n",
       "        [0.3191, 0.5000, 0.2500, 1.0000, 0.0000],\n",
       "        [0.3093, 0.5000, 0.2500, 0.5000, 0.0000],\n",
       "        [0.2321, 0.5000, 0.2500, 0.2500, 0.6667],\n",
       "        [0.2247, 0.5000, 0.2500, 0.5000, 0.0000],\n",
       "        [0.1574, 0.5000, 0.2500, 0.5000, 0.0000],\n",
       "        [0.2531, 0.3333, 0.5000, 0.2500, 0.0000],\n",
       "        [0.2167, 0.5000, 0.2500, 0.7500, 0.0000],\n",
       "        [0.2469, 0.5000, 0.2500, 0.5000, 0.6667],\n",
       "        [0.1952, 0.5000, 0.2500, 0.5000, 0.3333],\n",
       "        [0.2716, 0.3333, 0.2500, 0.2500, 0.3333],\n",
       "        [0.2691, 0.6667, 0.2500, 0.5000, 0.0000],\n",
       "        [0.2469, 0.6667, 0.5000, 0.5000, 0.0000],\n",
       "        [0.2840, 0.5000, 0.5000, 0.5000, 0.3333],\n",
       "        [0.2518, 0.5000, 0.2500, 0.7500, 0.0000],\n",
       "        [0.2130, 0.5000, 0.2500, 0.5000, 0.3333],\n",
       "        [0.3741, 0.3333, 0.2500, 0.2500, 0.3333],\n",
       "        [0.3642, 0.6667, 0.5000, 0.5000, 0.3333],\n",
       "        [0.3081, 0.5000, 0.5000, 0.5000, 0.6667],\n",
       "        [0.2679, 0.5000, 0.2500, 0.2500, 0.0000],\n",
       "        [0.2531, 0.6667, 0.2500, 0.2500, 0.0000],\n",
       "        [0.2444, 0.5000, 0.2500, 0.5000, 0.0000],\n",
       "        [0.4481, 0.5000, 0.5000, 0.2500, 1.0000],\n",
       "        [0.3395, 0.6667, 0.2500, 0.5000, 0.0000],\n",
       "        [0.2031, 0.3333, 0.2500, 0.2500, 0.3333],\n",
       "        [0.1343, 0.3333, 0.2500, 0.5000, 0.0000],\n",
       "        [0.5185, 0.3333, 0.2500, 0.2500, 0.3333],\n",
       "        [0.2494, 0.3333, 0.2500, 0.2500, 0.0000],\n",
       "        [0.3364, 0.3333, 0.2500, 0.2500, 0.0000],\n",
       "        [0.2241, 0.3333, 0.2500, 0.2500, 0.0000],\n",
       "        [0.2642, 0.3333, 0.2500, 0.2500, 0.6667],\n",
       "        [0.1963, 0.5000, 0.2500, 0.5000, 0.0000],\n",
       "        [0.1852, 0.3333, 0.2500, 0.5000, 0.0000],\n",
       "        [0.2173, 0.3333, 0.5000, 0.2500, 0.0000],\n",
       "        [0.1759, 0.5000, 0.5000, 0.5000, 0.0000],\n",
       "        [0.2168, 0.3333, 0.2500, 0.2500, 0.3333],\n",
       "        [0.5864, 0.5000, 0.2500, 0.5000, 1.0000],\n",
       "        [0.3025, 0.5000, 0.2500, 0.5000, 0.0000],\n",
       "        [0.2469, 0.3333, 0.2500, 0.2500, 0.0000],\n",
       "        [0.1966, 0.3333, 0.2500, 0.2500, 0.6667],\n",
       "        [0.1611, 0.5000, 0.2500, 0.5000, 0.0000],\n",
       "        [0.2494, 0.3333, 0.2500, 0.2500, 0.0000],\n",
       "        [0.2315, 0.5000, 0.2500, 0.2500, 0.0000],\n",
       "        [0.2148, 0.6667, 0.2500, 0.5000, 0.3333],\n",
       "        [0.2494, 0.3333, 0.2500, 0.2500, 0.0000],\n",
       "        [0.2247, 0.6667, 0.2500, 0.5000, 0.0000],\n",
       "        [0.1657, 0.3333, 0.2500, 0.2500, 0.3333],\n",
       "        [0.2667, 0.5000, 0.2500, 0.2500, 0.3333],\n",
       "        [0.2130, 0.5000, 0.2500, 0.5000, 0.0000],\n",
       "        [0.1894, 0.3333, 0.2500, 0.2500, 0.3333],\n",
       "        [0.3392, 0.5000, 0.2500, 0.2500, 0.0000],\n",
       "        [0.1907, 0.5000, 0.2500, 0.5000, 0.0000],\n",
       "        [0.3611, 0.5000, 0.2500, 0.5000, 0.3333],\n",
       "        [0.3062, 0.3333, 0.2500, 0.2500, 0.0000],\n",
       "        [0.2148, 0.5000, 0.2500, 0.5000, 0.3333],\n",
       "        [0.1636, 0.5000, 0.2500, 0.5000, 0.3333],\n",
       "        [0.2444, 0.5000, 0.2500, 0.2500, 0.0000],\n",
       "        [0.2469, 0.3333, 0.2500, 0.2500, 0.0000],\n",
       "        [0.1500, 0.5000, 0.2500, 0.2500, 0.0000],\n",
       "        [0.1966, 0.3333, 0.2500, 0.2500, 0.0000],\n",
       "        [0.1796, 0.3333, 0.2500, 0.2500, 0.0000],\n",
       "        [0.1963, 0.5000, 0.2500, 0.2500, 0.0000],\n",
       "        [0.1720, 0.6667, 0.5000, 0.5000, 0.0000],\n",
       "        [0.2451, 0.5000, 0.2500, 0.5000, 0.0000]])"
      ]
     },
     "execution_count": 7,
     "metadata": {},
     "output_type": "execute_result"
    }
   ],
   "source": [
    "vCaterogies"
   ]
  },
  {
   "cell_type": "code",
   "execution_count": 8,
   "id": "274e8396-c152-4de6-839c-d8724928915e",
   "metadata": {
    "tags": []
   },
   "outputs": [
    {
     "data": {
      "text/plain": [
       "Sequential(\n",
       "  (0): Linear(in_features=5, out_features=8, bias=True)\n",
       "  (1): Tanh()\n",
       "  (2): Linear(in_features=8, out_features=16, bias=True)\n",
       "  (3): Tanh()\n",
       "  (4): Linear(in_features=16, out_features=1, bias=True)\n",
       ")"
      ]
     },
     "execution_count": 8,
     "metadata": {},
     "output_type": "execute_result"
    }
   ],
   "source": [
    "# Sequential Model Setup \n",
    "import torch.nn as nn\n",
    "import torch.optim as optim\n",
    "model = nn.Sequential(\n",
    "                nn.Linear(5,8), # (X,Y) X = Input Features Y = Output Features\n",
    "                nn.Tanh(),  # Neuron Activiation Function\n",
    "                nn.Linear(8,16), # Hidden Layer \n",
    "                nn.Tanh(),\n",
    "                nn.Linear(16,1)) # End Layer (Y,N) # Output Features as Input, N - Price Output\n",
    "model\n"
   ]
  },
  {
   "cell_type": "code",
   "execution_count": 9,
   "id": "8b6662c8-c951-40a8-8a26-efc0525d39cf",
   "metadata": {
    "tags": []
   },
   "outputs": [],
   "source": [
    "#Optimizer Initialization\n",
    "OPTIM = optim.SGD(model.parameters(), lr = 1e-3)"
   ]
  },
  {
   "cell_type": "code",
   "execution_count": 10,
   "id": "e40b164e-a61f-4305-8b0c-179c74d4dec4",
   "metadata": {},
   "outputs": [],
   "source": [
    "#Training Loop Function Declaration\n",
    "def training_loop(numOfEpochs, optimizer, model, lossFunction, inputTrainCater, inputValidCater, outputTrainPrice, outputValidPrice):\n",
    "    for epoch in range(1, numOfEpochs + 1):\n",
    "        tTrain = model(inputTrainCater)\n",
    "        trainLoss = lossFunction(tTrain, outputTrainPrice)\n",
    "        \n",
    "        vTrain = model(inputValidCater)\n",
    "        valLoss = lossFunction(vTrain, outputValidPrice)\n",
    "\n",
    "        optimizer.zero_grad()\n",
    "        trainLoss.backward()\n",
    "        optimizer.step()\n",
    "\n",
    "        if epoch == 200:\n",
    "            print(f\"Epoch {epoch}, Training loss {trainLoss.item():0.4f},\"f\" Validation loss {valLoss.item():.4f}\")"
   ]
  },
  {
   "cell_type": "code",
   "execution_count": 11,
   "id": "f99d7873-7ecc-4944-acbf-c0bdc02694d8",
   "metadata": {
    "tags": []
   },
   "outputs": [
    {
     "name": "stderr",
     "output_type": "stream",
     "text": [
      "C:\\Users\\tycha\\anaconda3\\lib\\site-packages\\torch\\nn\\modules\\loss.py:520: UserWarning: Using a target size (torch.Size([445])) that is different to the input size (torch.Size([445, 1])). This will likely lead to incorrect results due to broadcasting. Please ensure they have the same size.\n",
      "  return F.mse_loss(input, target, reduction=self.reduction)\n",
      "C:\\Users\\tycha\\anaconda3\\lib\\site-packages\\torch\\nn\\modules\\loss.py:520: UserWarning: Using a target size (torch.Size([100])) that is different to the input size (torch.Size([100, 1])). This will likely lead to incorrect results due to broadcasting. Please ensure they have the same size.\n",
      "  return F.mse_loss(input, target, reduction=self.reduction)\n"
     ]
    },
    {
     "name": "stdout",
     "output_type": "stream",
     "text": [
      "Epoch 200, Training loss 0.0485, Validation loss 0.0407\n"
     ]
    }
   ],
   "source": [
    "#Training Loop Intialization\n",
    "training_loop(\n",
    "    numOfEpochs = 200,\n",
    "    optimizer = OPTIM,\n",
    "    model = model,\n",
    "    lossFunction = nn.MSELoss(),\n",
    "    inputTrainCater = tCaterogies,\n",
    "    inputValidCater = vCaterogies,\n",
    "    outputTrainPrice = tPrice,\n",
    "    outputValidPrice = vPrice)"
   ]
  },
  {
   "cell_type": "code",
   "execution_count": 12,
   "id": "a038e76f-b421-49df-be2d-ba637aa5846f",
   "metadata": {
    "tags": []
   },
   "outputs": [
    {
     "name": "stdout",
     "output_type": "stream",
     "text": [
      "Warning: module Tanh is treated as a zero-op.\n",
      "Sequential(\n",
      "  0.0 M, 100.000% Params, 0.0 GMac, 100.000% MACs, \n",
      "  (0): Linear(0.0 M, 22.967% Params, 0.0 GMac, 22.967% MACs, in_features=5, out_features=8, bias=True)\n",
      "  (1): Tanh(0.0 M, 0.000% Params, 0.0 GMac, 0.000% MACs, )\n",
      "  (2): Linear(0.0 M, 68.900% Params, 0.0 GMac, 68.900% MACs, in_features=8, out_features=16, bias=True)\n",
      "  (3): Tanh(0.0 M, 0.000% Params, 0.0 GMac, 0.000% MACs, )\n",
      "  (4): Linear(0.0 M, 8.134% Params, 0.0 GMac, 8.134% MACs, in_features=16, out_features=1, bias=True)\n",
      ")\n",
      "Computational complexity:       0.0 GMac\n",
      "Number of parameters:           209     \n"
     ]
    }
   ],
   "source": [
    "with torch.cuda.device(0):\n",
    "  net = model\n",
    "  macs, paramaters = get_model_complexity_info(net, (1, 5), as_strings=True, print_per_layer_stat=True, verbose=True)\n",
    "  print('{:<30}  {:<8}'.format('Computational complexity: ', macs))\n",
    "  print('{:<30}  {:<8}'.format('Number of parameters: ', paramaters))"
   ]
  },
  {
   "cell_type": "code",
   "execution_count": 13,
   "id": "6ce46e16-ed95-4b7f-89b2-c88a563fe1b7",
   "metadata": {},
   "outputs": [],
   "source": [
    "############ Part 2 ################"
   ]
  },
  {
   "cell_type": "code",
   "execution_count": 14,
   "id": "9d190bcf-a189-4496-b2e5-4794c0c9472c",
   "metadata": {},
   "outputs": [
    {
     "data": {
      "text/plain": [
       "Sequential(\n",
       "  (0): Linear(in_features=5, out_features=8, bias=True)\n",
       "  (1): Tanh()\n",
       "  (2): Linear(in_features=8, out_features=16, bias=True)\n",
       "  (3): Tanh()\n",
       "  (4): Linear(in_features=16, out_features=32, bias=True)\n",
       "  (5): Tanh()\n",
       "  (6): Linear(in_features=32, out_features=64, bias=True)\n",
       "  (7): Tanh()\n",
       "  (8): Linear(in_features=64, out_features=1, bias=True)\n",
       ")"
      ]
     },
     "execution_count": 14,
     "metadata": {},
     "output_type": "execute_result"
    }
   ],
   "source": [
    "# Sequential Model Setup \n",
    "modelP2 = nn.Sequential(\n",
    "                nn.Linear(5,8), # (X,Y) X = Input Features Y = Output Features\n",
    "                nn.Tanh(),  # Neuron Activiation Function\n",
    "                nn.Linear(8,16), # Hidden Layer \n",
    "                nn.Tanh(),\n",
    "                nn.Linear(16, 32),\n",
    "                nn.Tanh(),\n",
    "                nn.Linear(32,64),\n",
    "                nn.Tanh(),\n",
    "                nn.Linear(64,1)) # End Layer (Y,N) # Output Features as Input, N - Price Output\n",
    "modelP2"
   ]
  },
  {
   "cell_type": "code",
   "execution_count": 15,
   "id": "a1df9579-f82f-48d4-8ce4-5945e8b4cc12",
   "metadata": {},
   "outputs": [],
   "source": [
    "#Optimizer Initialization\n",
    "OPTIM2 = optim.SGD(modelP2.parameters(), lr = 1e-3)"
   ]
  },
  {
   "cell_type": "code",
   "execution_count": 16,
   "id": "8b429e02-e5a5-48bc-b2ce-fa88e3d63700",
   "metadata": {},
   "outputs": [],
   "source": [
    "#Training Loop Function Declaration\n",
    "def training_loop(numOfEpochs, optimizer, model, lossFunction, inputTrainCater, inputValidCater, outputTrainPrice, outputValidPrice):\n",
    "    for epoch in range(1, numOfEpochs + 1):\n",
    "        tTrain = model(inputTrainCater)\n",
    "        trainLoss = lossFunction(tTrain, outputTrainPrice)\n",
    "        \n",
    "        vTrain = model(inputValidCater)\n",
    "        valLoss = lossFunction(vTrain, outputValidPrice)\n",
    "\n",
    "        optimizer.zero_grad()\n",
    "        trainLoss.backward()\n",
    "        optimizer.step()\n",
    "\n",
    "        if epoch == 200:\n",
    "            print(f\"Epoch {epoch}, Training loss {trainLoss.item():0.4f},\"f\" Validation loss {valLoss.item():.4f}\")"
   ]
  },
  {
   "cell_type": "code",
   "execution_count": 17,
   "id": "d6df6da5-0314-4508-b1c1-cc6025f0b761",
   "metadata": {},
   "outputs": [
    {
     "name": "stdout",
     "output_type": "stream",
     "text": [
      "Epoch 200, Training loss 0.0263, Validation loss 0.0199\n"
     ]
    }
   ],
   "source": [
    "#Training Loop Intialization\n",
    "training_loop(\n",
    "    numOfEpochs = 200,\n",
    "    optimizer = OPTIM,\n",
    "    model = model,\n",
    "    lossFunction = nn.MSELoss(),\n",
    "    inputTrainCater = tCaterogies,\n",
    "    inputValidCater = vCaterogies,\n",
    "    outputTrainPrice = tPrice,\n",
    "    outputValidPrice = vPrice)"
   ]
  },
  {
   "cell_type": "code",
   "execution_count": 18,
   "id": "acc62a88-b141-4a52-89c2-2dad24b12df2",
   "metadata": {},
   "outputs": [
    {
     "name": "stdout",
     "output_type": "stream",
     "text": [
      "Warning: module Tanh is treated as a zero-op.\n",
      "Sequential(\n",
      "  0.0 M, 100.000% Params, 0.0 GMac, 100.000% MACs, \n",
      "  (0): Linear(0.0 M, 22.967% Params, 0.0 GMac, 22.967% MACs, in_features=5, out_features=8, bias=True)\n",
      "  (1): Tanh(0.0 M, 0.000% Params, 0.0 GMac, 0.000% MACs, )\n",
      "  (2): Linear(0.0 M, 68.900% Params, 0.0 GMac, 68.900% MACs, in_features=8, out_features=16, bias=True)\n",
      "  (3): Tanh(0.0 M, 0.000% Params, 0.0 GMac, 0.000% MACs, )\n",
      "  (4): Linear(0.0 M, 8.134% Params, 0.0 GMac, 8.134% MACs, in_features=16, out_features=1, bias=True)\n",
      ")\n",
      "Computational complexity:       0.0 GMac\n",
      "Number of parameters:           209     \n"
     ]
    }
   ],
   "source": [
    "with torch.cuda.device(0):\n",
    "  net = model\n",
    "  macs, paramaters = get_model_complexity_info(net, (1, 5), as_strings=True, print_per_layer_stat=True, verbose=True)\n",
    "  print('{:<30}  {:<8}'.format('Computational complexity: ', macs))\n",
    "  print('{:<30}  {:<8}'.format('Number of parameters: ', paramaters))"
   ]
  },
  {
   "cell_type": "code",
   "execution_count": 19,
   "id": "9171ab1d-321d-45f6-bda1-fff0cfe9072c",
   "metadata": {},
   "outputs": [],
   "source": [
    "############ Question 2 #############"
   ]
  },
  {
   "cell_type": "code",
   "execution_count": 20,
   "id": "e032470a-5a55-46a2-b8c3-ecc507f00f5c",
   "metadata": {},
   "outputs": [],
   "source": [
    "############## Part 1 ###############"
   ]
  },
  {
   "cell_type": "code",
   "execution_count": 21,
   "id": "2d4db503-d692-4f2f-969d-467c3174d12c",
   "metadata": {},
   "outputs": [
    {
     "data": {
      "text/plain": [
       "Normalize(mean=(0.4915, 0.4823, 0.4468), std=(0.247, 0.2435, 0.2616))"
      ]
     },
     "execution_count": 21,
     "metadata": {},
     "output_type": "execute_result"
    }
   ],
   "source": [
    "transforms.Normalize((0.4915, 0.4823, 0.4468),(0.2470, 0.2435, 0.2616))"
   ]
  },
  {
   "cell_type": "code",
   "execution_count": 22,
   "id": "687f3aa6-e836-4689-ab2b-444c22af52d3",
   "metadata": {},
   "outputs": [
    {
     "data": {
      "text/plain": [
       "device(type='cuda')"
      ]
     },
     "execution_count": 22,
     "metadata": {},
     "output_type": "execute_result"
    }
   ],
   "source": [
    "device = torch.device('cuda' if torch.cuda.is_available() else 'cpu')\n",
    "device"
   ]
  },
  {
   "cell_type": "code",
   "execution_count": 23,
   "id": "2df3752a-d62f-4fc1-ab18-b3ba56d1771d",
   "metadata": {},
   "outputs": [
    {
     "name": "stdout",
     "output_type": "stream",
     "text": [
      "Files already downloaded and verified\n"
     ]
    }
   ],
   "source": [
    "from torchvision import datasets\n",
    "data_path = 'C:/Users/tycha/OneDrive/Documents/Sarah/Real_Time/FICAR10'\n",
    "cifar10 = datasets.CIFAR10(data_path, train=True, download=True, transform=transforms.Compose([transforms.ToTensor(), transforms.Normalize((0.4915, 0.4823, 0.4468),(0.2470, 0.2435, 0.2616))]))\n",
    "cifar10_val = datasets.CIFAR10(data_path, train=False, download=False, transform=transforms.Compose([transforms.ToTensor(), transforms.Normalize((0.4915, 0.4823, 0.4468),(0.2470, 0.2435, 0.2616))]))"
   ]
  },
  {
   "cell_type": "code",
   "execution_count": 24,
   "id": "7618252a-e43e-4498-80a3-50c308637d80",
   "metadata": {},
   "outputs": [],
   "source": [
    "CIFAR_model = nn.Sequential(\n",
    "              nn.Linear(3072,512),\n",
    "              nn.Tanh(),\n",
    "              nn.Linear(512,10),\n",
    "              nn.LogSoftmax(dim=1))\n",
    "#CIFAR_model.to(device)\n",
    "loss_fn = nn.NLLLoss()"
   ]
  },
  {
   "cell_type": "code",
   "execution_count": 25,
   "id": "243a85bb-96a7-44ed-9601-5fdbb6dccdc1",
   "metadata": {},
   "outputs": [],
   "source": [
    "optimizer = optim.SGD(CIFAR_model.parameters(),lr=1e-3)"
   ]
  },
  {
   "cell_type": "code",
   "execution_count": 26,
   "id": "9b2c57d7-5fee-4db0-af62-c8ef712f449f",
   "metadata": {},
   "outputs": [],
   "source": [
    "train_loader = torch.utils.data.DataLoader(cifar10, batch_size=64, shuffle=True)\n",
    "n_epochs = 300"
   ]
  },
  {
   "cell_type": "code",
   "execution_count": 27,
   "id": "1c68c350-368e-4b45-b8e0-402051acbea0",
   "metadata": {},
   "outputs": [
    {
     "name": "stdout",
     "output_type": "stream",
     "text": [
      "Epoch: 200, Loss: 0.567221\n"
     ]
    }
   ],
   "source": [
    "for epoch in range(n_epochs):\n",
    "    for imgs, labels in train_loader:\n",
    "        #imgs, labels = imgs.to(device), labels.to(device)\n",
    "        batch_size = imgs.shape[0]\n",
    "        outputs = CIFAR_model(imgs.view(batch_size, -1))\n",
    "        loss = loss_fn(outputs, labels)\n",
    "        \n",
    "        optimizer.zero_grad()\n",
    "        loss.backward()\n",
    "        optimizer.step()\n",
    "    if epoch == 200:\n",
    "        print(\"Epoch: %d, Loss: %f\" % (epoch, float(loss)))"
   ]
  },
  {
   "cell_type": "code",
   "execution_count": 32,
   "id": "0b27c2f5-8fc4-4ae9-ab0d-717a1ad80efb",
   "metadata": {},
   "outputs": [
    {
     "name": "stdout",
     "output_type": "stream",
     "text": [
      "Accuracy: % 0.4968\n"
     ]
    }
   ],
   "source": [
    "val_loader = torch.utils.data.DataLoader(cifar10_val, batch_size=64, shuffle=False)\n",
    "\n",
    "correct = 0\n",
    "total = 0\n",
    "\n",
    "with torch.no_grad():\n",
    "    for imgs, labels in val_loader:\n",
    "        #imgs, labels = imgs.to(device), labels.to(device)\n",
    "        batch_size = imgs.shape[0]\n",
    "        outputs = CIFAR_model(imgs.view(batch_size, -1))\n",
    "        _, predicted = torch.max(outputs, dim=1)\n",
    "        total += labels.shape[0]\n",
    "        correct += int((predicted == labels).sum())\n",
    "print(\"Accuracy: %\", (correct/total))"
   ]
  },
  {
   "cell_type": "code",
   "execution_count": 33,
   "id": "da801086-95f1-4228-b217-748ba6249772",
   "metadata": {},
   "outputs": [],
   "source": [
    "############## Part 2 ###############"
   ]
  },
  {
   "cell_type": "code",
   "execution_count": 34,
   "id": "7a24a580-cf6d-4175-bd21-09e6a8667bbf",
   "metadata": {},
   "outputs": [],
   "source": [
    "CIFAR_model2 = nn.Sequential(\n",
    "              nn.Linear(3072,512),\n",
    "              nn.Tanh(),\n",
    "              nn.Linear(512,256),\n",
    "              nn.Tanh(),\n",
    "              nn.Linear(256,128),\n",
    "              nn.Tanh(),\n",
    "              nn.Linear(128,10),\n",
    "              nn.LogSoftmax(dim=1))\n",
    "#CIFAR_model2.to(device)\n",
    "loss_fn = nn.NLLLoss()"
   ]
  },
  {
   "cell_type": "code",
   "execution_count": 35,
   "id": "edcf85ac-d095-4516-87e0-2183681b3e06",
   "metadata": {},
   "outputs": [],
   "source": [
    "optimizer = optim.SGD(CIFAR_model2.parameters(),lr=1e-2)"
   ]
  },
  {
   "cell_type": "code",
   "execution_count": 36,
   "id": "81f35f36-d278-41a0-bbcd-4cc2ee940c7f",
   "metadata": {},
   "outputs": [],
   "source": [
    "train_loader = torch.utils.data.DataLoader(cifar10, batch_size=64, shuffle=True)\n",
    "n_epochs = 300"
   ]
  },
  {
   "cell_type": "code",
   "execution_count": 37,
   "id": "5022e1a1-65d5-4fb4-b6e2-b97585d9ffc9",
   "metadata": {},
   "outputs": [],
   "source": [
    "for epoch in range(n_epochs):\n",
    "    for imgs, labels in train_loader:\n",
    "        #imgs, labels = imgs.to(device), labels.to(device)\n",
    "        batch_size = imgs.shape[0]\n",
    "        outputs = CIFAR_model2(imgs.view(batch_size, -1))\n",
    "        loss = loss_fn(outputs, labels)\n",
    "        \n",
    "        optimizer.zero_grad()\n",
    "        loss.backward()\n",
    "        optimizer.step()\n",
    "    if epoch == 300:\n",
    "        print(\"Epoch: %d, Loss: %f\" % (epoch, float(loss)))"
   ]
  },
  {
   "cell_type": "code",
   "execution_count": 39,
   "id": "c81b9826-bae2-475a-b69b-1528940cd1e6",
   "metadata": {},
   "outputs": [
    {
     "name": "stdout",
     "output_type": "stream",
     "text": [
      "Epoch: 299, Loss: 0.000346\n"
     ]
    }
   ],
   "source": [
    "print(\"Epoch: %d, Loss: %f\" % (epoch, float(loss)))"
   ]
  },
  {
   "cell_type": "code",
   "execution_count": 38,
   "id": "bc1ffab4-d0e8-41cf-b3a8-e5dea2e6bf5e",
   "metadata": {},
   "outputs": [
    {
     "name": "stdout",
     "output_type": "stream",
     "text": [
      "Accuracy: % 0.459\n"
     ]
    }
   ],
   "source": [
    "val_loader = torch.utils.data.DataLoader(cifar10_val, batch_size=64, shuffle=False)\n",
    "\n",
    "correct = 0\n",
    "total = 0\n",
    "\n",
    "with torch.no_grad():\n",
    "    for imgs, labels in val_loader:\n",
    "        #imgs, labels = imgs.to(device), labels.to(device)\n",
    "        batch_size = imgs.shape[0]\n",
    "        outputs = CIFAR_model2(imgs.view(batch_size, -1))\n",
    "        _, predicted = torch.max(outputs, dim=1)\n",
    "        total += labels.shape[0]\n",
    "        correct += int((predicted == labels).sum())\n",
    "        \n",
    "print(\"Accuracy: %\", (correct/total))"
   ]
  },
  {
   "cell_type": "code",
   "execution_count": null,
   "id": "3448f441-68b7-42a0-ac69-ccfd25cbbf01",
   "metadata": {},
   "outputs": [],
   "source": []
  }
 ],
 "metadata": {
  "kernelspec": {
   "display_name": "Python 3 (ipykernel)",
   "language": "python",
   "name": "python3"
  },
  "language_info": {
   "codemirror_mode": {
    "name": "ipython",
    "version": 3
   },
   "file_extension": ".py",
   "mimetype": "text/x-python",
   "name": "python",
   "nbconvert_exporter": "python",
   "pygments_lexer": "ipython3",
   "version": "3.9.7"
  }
 },
 "nbformat": 4,
 "nbformat_minor": 5
}
